{
 "cells": [
  {
   "cell_type": "code",
   "execution_count": 1,
   "id": "786d949a-e917-464d-b7cb-1fcba7698adc",
   "metadata": {},
   "outputs": [
    {
     "name": "stdout",
     "output_type": "stream",
     "text": [
      "Collecting gradientai\n",
      "  Downloading gradientai-1.8.0-py3-none-any.whl.metadata (1.3 kB)\n",
      "Collecting aenum>=3.1.11 (from gradientai)\n",
      "  Downloading aenum-3.1.15-py3-none-any.whl.metadata (3.7 kB)\n",
      "Requirement already satisfied: pydantic<2.0.0,>=1.10.5 in /Users/ayushsinha/miniconda3/lib/python3.11/site-packages (from gradientai) (1.10.14)\n",
      "Requirement already satisfied: python-dateutil>=2.8.2 in /Users/ayushsinha/miniconda3/lib/python3.11/site-packages (from gradientai) (2.8.2)\n",
      "Requirement already satisfied: urllib3>=1.25.3 in /Users/ayushsinha/miniconda3/lib/python3.11/site-packages (from gradientai) (1.26.15)\n",
      "Requirement already satisfied: typing-extensions>=4.2.0 in /Users/ayushsinha/miniconda3/lib/python3.11/site-packages (from pydantic<2.0.0,>=1.10.5->gradientai) (4.9.0)\n",
      "Requirement already satisfied: six>=1.5 in /Users/ayushsinha/miniconda3/lib/python3.11/site-packages (from python-dateutil>=2.8.2->gradientai) (1.16.0)\n",
      "Downloading gradientai-1.8.0-py3-none-any.whl (296 kB)\n",
      "\u001b[2K   \u001b[90m━━━━━━━━━━━━━━━━━━━━━━━━━━━━━━━━━━━━━━━━\u001b[0m \u001b[32m296.5/296.5 kB\u001b[0m \u001b[31m5.1 MB/s\u001b[0m eta \u001b[36m0:00:00\u001b[0ma \u001b[36m0:00:01\u001b[0m\n",
      "\u001b[?25hDownloading aenum-3.1.15-py3-none-any.whl (137 kB)\n",
      "\u001b[2K   \u001b[90m━━━━━━━━━━━━━━━━━━━━━━━━━━━━━━━━━━━━━━━━\u001b[0m \u001b[32m137.6/137.6 kB\u001b[0m \u001b[31m6.3 MB/s\u001b[0m eta \u001b[36m0:00:00\u001b[0m\n",
      "\u001b[?25hInstalling collected packages: aenum, gradientai\n",
      "Successfully installed aenum-3.1.15 gradientai-1.8.0\n"
     ]
    }
   ],
   "source": [
    "!pip install gradientai --upgrade"
   ]
  },
  {
   "cell_type": "code",
   "execution_count": 2,
   "id": "87b0e551-39b7-4787-8b0f-7d700417c3a1",
   "metadata": {},
   "outputs": [],
   "source": [
    "import os\n",
    "os.environ['GRADIENT_ACCESS_TOKEN'] = \"gJNwa7i3TE7Ln1vMakdmknbS2lTFDQHl\"\n",
    "os.environ['GRADIENT_WORKSPACE_ID'] = \"96bfab08-134e-4a85-a115-be7739d4cd5f_workspace\""
   ]
  },
  {
   "cell_type": "code",
   "execution_count": 3,
   "id": "e5cef740-8578-443d-acca-b40a118712f5",
   "metadata": {},
   "outputs": [],
   "source": [
    "from gradientai import Gradient"
   ]
  },
  {
   "cell_type": "code",
   "execution_count": null,
   "id": "e82056b0-1f70-4700-8353-d3530a82c500",
   "metadata": {},
   "outputs": [],
   "source": []
  }
 ],
 "metadata": {
  "kernelspec": {
   "display_name": "Python 3 (ipykernel)",
   "language": "python",
   "name": "python3"
  },
  "language_info": {
   "codemirror_mode": {
    "name": "ipython",
    "version": 3
   },
   "file_extension": ".py",
   "mimetype": "text/x-python",
   "name": "python",
   "nbconvert_exporter": "python",
   "pygments_lexer": "ipython3",
   "version": "3.11.5"
  }
 },
 "nbformat": 4,
 "nbformat_minor": 5
}
